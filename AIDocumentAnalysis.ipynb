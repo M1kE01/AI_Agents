{
 "cells": [
  {
   "cell_type": "code",
   "execution_count": 3,
   "metadata": {
    "colab": {
     "base_uri": "https://localhost:8080/"
    },
    "id": "chwiKQa6HsDA",
    "outputId": "681d00a1-d39f-4731-fcdc-6716f9c6ba18"
   },
   "outputs": [],
   "source": [
    "#!pip install google-adk -q\n",
    "#!pip install litellm -q\n",
    "\n",
    "# @title Import necessary libraries\n",
    "import os\n",
    "import asyncio\n",
    "from google.adk.agents import Agent\n",
    "from google.adk.models.lite_llm import LiteLlm # For multi-model support\n",
    "from google.adk.sessions import InMemorySessionService\n",
    "from google.adk.runners import Runner\n",
    "from google import genai\n",
    "\n",
    "# @title 1. Import LiteLlm\n",
    "from google.adk.models.lite_llm import LiteLlm\n",
    "import warnings\n",
    "warnings.filterwarnings(\"ignore\")\n",
    "import logging\n",
    "logging.basicConfig(level=logging.ERROR)\n",
    "import pandas as pd\n",
    "import numpy as np\n",
    "import datetime\n",
    "import matplotlib.pyplot as plt"
   ]
  },
  {
   "cell_type": "code",
   "execution_count": null,
   "metadata": {
    "id": "g_dMRnBEH-_e"
   },
   "outputs": [
    {
     "name": "stdout",
     "output_type": "stream",
     "text": [
      "API Keys Set:\n",
      "Google API Key set: Yes\n",
      "\n",
      "Environment configured.\n"
     ]
    }
   ],
   "source": [
    "# Gemini API Key (Get from Google AI Studio: https://aistudio.google.com/app/apikey)\n",
    "os.environ[\"GOOGLE_API_KEY\"] = '' #INSERT YOUR GEMINI API KEY\n",
    "\n",
    "# --- Verify Keys (Optional Check) ---\n",
    "print(\"API Keys Set:\")\n",
    "print(f\"Google API Key set: {'Yes' if os.environ.get('GOOGLE_API_KEY') and os.environ['GOOGLE_API_KEY'] != 'YOUR_GOOGLE_API_KEY' else 'No (REPLACE PLACEHOLDER!)'}\")\n",
    "\n",
    "# Configure ADK to use API keys directly (not Vertex AI for this multi-model setup)\n",
    "os.environ[\"GOOGLE_GENAI_USE_VERTEXAI\"] = \"False\"\n",
    "\n",
    "# --- Define Model Constants for easier use ---\n",
    "\n",
    "MODEL_GEMINI_2_0_FLASH = \"gemini-2.0-flash\"\n",
    "\n",
    "print(\"\\nEnvironment configured.\")"
   ]
  },
  {
   "cell_type": "code",
   "execution_count": 62,
   "metadata": {
    "id": "ZsVABANLPOPY"
   },
   "outputs": [],
   "source": [
    "# Simulated tool functions\n",
    "def style_analysis(text: str) -> str:\n",
    "    \"This function analyses the style of the text and returns a detailed report.\"\n",
    "    client = genai.Client(api_key=os.environ.get('GOOGLE_API_KEY'))\n",
    "    response = client.models.generate_content(\n",
    "        model = MODEL_GEMINI_2_0_FLASH,\n",
    "        contents = \"Within the user request analyse the style of the text and provide a detailed report about it. \\n\" +\n",
    "                   \"Your answer should be one paragraph of plain text. \" +\n",
    "                   \"This is the user's request:\\n\" + text\n",
    "    )\n",
    "    return response.text#f\"[STYLE ANALYSIS]\\n{response.text.strip()}\"\n",
    "\n",
    "def text_summarizer(text: str) -> str:\n",
    "    \"This function reads the input text and summarizes it.\"\n",
    "    client = genai.Client(api_key=os.environ.get('GOOGLE_API_KEY'))\n",
    "    response = client.models.generate_content(\n",
    "        model = MODEL_GEMINI_2_0_FLASH,\n",
    "        contents = \"Within the user request read the text and summarize it. \\n\" +\n",
    "                   \"Your answer should be one paragraph of plain text. \" +\n",
    "                   \"This is the user's request:\\n\" + text\n",
    "    )\n",
    "    return response.text#f\"[SUMMARY]\\n{response.text.strip()}\"\n",
    "\n",
    "def continuation_suggester(text: str) -> str:\n",
    "    \"This function reads the input text and suggests how to continue it.\"\n",
    "    client = genai.Client(api_key=os.environ.get('GOOGLE_API_KEY'))\n",
    "    response = client.models.generate_content(\n",
    "        model = MODEL_GEMINI_2_0_FLASH,\n",
    "        contents = \"Within the user request read the text and continue it with a paragraph in a similar stile.\\n\" +\n",
    "                   \"Your answer should be one paragraph of plain text. \" +\n",
    "                   \"This is the user's request:\\n\" + text\n",
    "    )\n",
    "    return response.text#f\"[CONTINUATION]\\n{response.text.strip()}\""
   ]
  },
  {
   "cell_type": "code",
   "execution_count": 63,
   "metadata": {
    "id": "V3i9_hTzPzcn"
   },
   "outputs": [],
   "source": [
    "AGENT_MODEL = MODEL_GEMINI_2_0_FLASH  # or whichever model you're using\n",
    "\n",
    "text_analysis_agent = Agent(\n",
    "    name=\"text_analysis_agent\",\n",
    "    model=AGENT_MODEL,\n",
    "    description=\"You are a text analysis assistant. Your job is to work with text based on user's descriptions.\",\n",
    "    instruction=(\n",
    "        \"Use the tools provided to perform style analysis, summarization, and continuation. \"\n",
    "        \"Always include the outputs from these tools directly in your response. \"\n",
    "        #\"Format each section with clear headers: [SUMMARY], [STYLE ANALYSIS], [CONTINUATION]. \"\n",
    "        \"Do not simply say that the task was completed. Include the actual tool outputs verbatim.\"\n",
    "    ),\n",
    "    tools=[style_analysis, text_summarizer, continuation_suggester]\n",
    ")"
   ]
  },
  {
   "cell_type": "code",
   "execution_count": 64,
   "metadata": {
    "id": "ePJ2FOm7P58f"
   },
   "outputs": [],
   "source": [
    "# --- Session Management ---\n",
    "session_service = InMemorySessionService()\n",
    "\n",
    "APP_NAME = \"software_team_app\"\n",
    "USER_ID = \"dev_user_001\"\n",
    "SESSION_ID = \"dev_session_001\"\n",
    "\n",
    "session = session_service.create_session(\n",
    "    app_name=APP_NAME,\n",
    "    user_id=USER_ID,\n",
    "    session_id=SESSION_ID\n",
    ")\n",
    "\n",
    "# --- Runner ---\n",
    "runner = Runner(\n",
    "    agent=text_analysis_agent,\n",
    "    app_name=APP_NAME,\n",
    "    session_service=session_service\n",
    ")"
   ]
  },
  {
   "cell_type": "code",
   "execution_count": 65,
   "metadata": {
    "id": "B88Nql-7P8CQ"
   },
   "outputs": [],
   "source": [
    "from google.genai.types import Content, Part\n",
    "\n",
    "async def call_agent_async(query: str, runner, user_id, session_id):\n",
    "    print(f\"\\n>>> User Query: {query}\")\n",
    "    content = Content(role='user', parts=[Part(text=query)])\n",
    "    final_response_text = \"No response generated.\"\n",
    "    \n",
    "    print_log = []  # To aggregate all outputs in order\n",
    "\n",
    "    async for event in runner.run_async(user_id=user_id, session_id=session_id, new_message=content):\n",
    "        \n",
    "        # Handle when the agent calls a tool\n",
    "        if hasattr(event, 'tool_request') and event.tool_request:\n",
    "            print_log.append(f\"\\n[🛠️ TOOL REQUEST] {event.tool_request.tool_name}\")\n",
    "            print_log.append(f\"[📥 INPUT] {event.tool_request.input}\")\n",
    "        \n",
    "        # Handle the tool response (actual function return)\n",
    "        if hasattr(event, 'tool_response') and event.tool_response:\n",
    "            print_log.append(f\"[📤 OUTPUT] {event.tool_response.output}\")\n",
    "        \n",
    "        # Final agent message\n",
    "        if event.is_final_response():\n",
    "            if event.content and event.content.parts:\n",
    "                final_response_text = event.content.parts[0].text\n",
    "                print_log.append(f\"\\n[🧠 AGENT SUMMARY] {final_response_text}\")\n",
    "            elif event.actions and event.actions.escalate:\n",
    "                final_response_text = f\"Agent escalated: {event.error_message or 'No specific message.'}\"\n",
    "                print_log.append(final_response_text)\n",
    "            break  # Stop after final response\n",
    "\n",
    "    # Print everything in order\n",
    "    for entry in print_log:\n",
    "        print(entry)"
   ]
  },
  {
   "cell_type": "code",
   "execution_count": 67,
   "metadata": {
    "colab": {
     "base_uri": "https://localhost:8080/"
    },
    "id": "ZrhwjTXKP9yY",
    "outputId": "a0fb017b-1631-4935-a41e-9eadf3a57532"
   },
   "outputs": [
    {
     "name": "stdout",
     "output_type": "stream",
     "text": [
      "\n",
      ">>> User Query: Do with this text all you can do:\n",
      "Just then another visitor entered the drawing room: Prince Andrew Bolkónski, the little princess’ husband. He was a very handsome young man, of medium height, with firm, clearcut features. Everything about him, from his weary, bored expression to his quiet, measured step, offered a most striking contrast to his quiet, little wife. It was evident that he not only knew everyone in the drawing room, but had found them to be so tiresome that it wearied him to look at or listen to them. And among all these faces that he found so tedious, none seemed to bore him so much as that of his pretty wife. He turned away from her with a grimace that distorted his handsome face, kissed Anna Pávlovna’s hand, and screwing up his eyes scanned the whole company.\n",
      "\n",
      "[🧠 AGENT SUMMARY] Here are the results of the text analysis tools:\n",
      "\n",
      "**Style Analysis:** The text exhibits a formal and descriptive style, reminiscent of 19th-century Russian literature. The language is precise and detailed, focusing on physical appearances and subtle emotional cues to convey character and atmosphere. The narrator employs an omniscient perspective, offering insights into the character's thoughts and feelings, and using sophisticated vocabulary and sentence structure. There is a detached, observant tone, almost clinical in its analysis of the Prince's behavior and his relationships with other characters. The overall impression is one of carefully constructed narrative aimed at providing a rich understanding of the social dynamics and individual personalities within the scene.\n",
      "\n",
      "**Text Summarizer:** Prince Andrew Bolkónski, a handsome and composed young man, entered the drawing room, contrasting sharply with his lively wife. He appeared weary and bored by the social gathering, showing a clear disdain for the company and even his own wife, whom he seemed particularly tired of. His expressions and demeanor conveyed a sense of weariness and detachment from the people around him.\n",
      "\n",
      "**Continuation Suggester:** His gaze lingered for a moment on Pierre, a flicker of something akin to amusement crossing his face before vanishing as quickly as it came. He offered a curt nod to several acquaintances, his movements precise and economical, as if even the slightest exertion was a burden. Finding an empty armchair near the window, he settled into it with a sigh that was almost imperceptible, his eyes drifting towards the garden outside. There, a fleeting shadow passed across his face, hinting at some private melancholy hidden beneath the veneer of indifference.\n",
      "\n"
     ]
    }
   ],
   "source": [
    "async def run_conversation():\n",
    "    await call_agent_async(\"Do with this text all you can do:\\n\" + \"Just then another visitor entered the drawing room: Prince Andrew Bolkónski, the little princess’ husband. He was a very handsome young man, of medium height, with firm, clearcut features. Everything about him, from his weary, bored expression to his quiet, measured step, offered a most striking contrast to his quiet, little wife. It was evident that he not only knew everyone in the drawing room, but had found them to be so tiresome that it wearied him to look at or listen to them. And among all these faces that he found so tedious, none seemed to bore him so much as that of his pretty wife. He turned away from her with a grimace that distorted his handsome face, kissed Anna Pávlovna’s hand, and screwing up his eyes scanned the whole company.\", runner, USER_ID, SESSION_ID)\n",
    "\n",
    "# Execute\n",
    "await run_conversation()"
   ]
  }
 ],
 "metadata": {
  "colab": {
   "provenance": []
  },
  "kernelspec": {
   "display_name": "Python 3 (ipykernel)",
   "language": "python",
   "name": "python3"
  },
  "language_info": {
   "codemirror_mode": {
    "name": "ipython",
    "version": 3
   },
   "file_extension": ".py",
   "mimetype": "text/x-python",
   "name": "python",
   "nbconvert_exporter": "python",
   "pygments_lexer": "ipython3",
   "version": "3.12.7"
  }
 },
 "nbformat": 4,
 "nbformat_minor": 4
}
